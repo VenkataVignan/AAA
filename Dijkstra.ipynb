{
  "nbformat": 4,
  "nbformat_minor": 0,
  "metadata": {
    "colab": {
      "provenance": [],
      "include_colab_link": true
    },
    "kernelspec": {
      "name": "python3",
      "display_name": "Python 3"
    },
    "language_info": {
      "name": "python"
    }
  },
  "cells": [
    {
      "cell_type": "markdown",
      "metadata": {
        "id": "view-in-github",
        "colab_type": "text"
      },
      "source": [
        "<a href=\"https://colab.research.google.com/github/Hancynixon/AA/blob/main/Dijkstra.ipynb\" target=\"_parent\"><img src=\"https://colab.research.google.com/assets/colab-badge.svg\" alt=\"Open In Colab\"/></a>"
      ]
    },
    {
      "cell_type": "code",
      "execution_count": null,
      "metadata": {
        "colab": {
          "base_uri": "https://localhost:8080/"
        },
        "id": "33owLQksogap",
        "outputId": "e18389ac-2f46-4f45-cae0-c055ca2b2d39"
      },
      "outputs": [
        {
          "output_type": "stream",
          "name": "stdout",
          "text": [
            "Distances: {0: 0, 1: 4, 2: 12, 3: 19, 4: 21, 5: 11, 6: 9, 7: 8, 8: 14}\n"
          ]
        }
      ],
      "source": [
        "import heapq\n",
        "def dijkstra(graph, start):\n",
        "\n",
        "# Initialize distances and priority queue\n",
        "  dist = {vertex: float('infinity') for vertex in graph}\n",
        "  prev = {vertex: None for vertex in graph}\n",
        "  dist[start] = 0\n",
        "  priority_queue = [(0, start)]\n",
        "  while priority_queue:\n",
        "    current_dist, u = heapq.heappop(priority_queue)\n",
        "    # Skip processing if we have already found a better path\n",
        "    if current_dist > dist[u]:\n",
        "      continue\n",
        "    # Explore neighbors\n",
        "    for neighbor, weight in graph[u]:\n",
        "      distance = current_dist + weight\n",
        "      # Only consider this new path if it's better\n",
        "      if distance < dist[neighbor]:\n",
        "        dist[neighbor] = distance\n",
        "        prev[neighbor] = u\n",
        "        heapq.heappush(priority_queue, (distance, neighbor))\n",
        "  return dist, prev\n",
        "\n",
        "graph = {\n",
        "0: [(1, 4), (7, 8)],\n",
        "1: [(0, 4), (2, 8), (7, 11)],\n",
        "2: [(1, 8), (3, 7), (5, 4), (8, 2)],\n",
        "3: [(2, 7), (4, 9), (5, 14)],\n",
        "4: [(3, 9), (5, 10)],\n",
        "5: [(2, 4), (3, 14), (4, 10), (6, 2)],\n",
        "6: [(5, 2), (7, 1), (8, 6)],\n",
        "7: [(0, 8), (1, 11), (6, 1), (8, 7)],\n",
        "8: [(2, 2), (6, 6), (7, 7)]\n",
        "}\n",
        "start_vertex = 0\n",
        "distances, predecessors = dijkstra(graph, start_vertex)\n",
        "\n",
        "print(\"Distances:\", distances)\n",
        "\n",
        "\n"
      ]
    },
    {
      "cell_type": "code",
      "source": [
        "print(\"Predecessors:\", predecessors)"
      ],
      "metadata": {
        "colab": {
          "base_uri": "https://localhost:8080/"
        },
        "id": "tAwUTzPsqUHq",
        "outputId": "cee278f4-d901-47c0-a924-35c8f67b9c2b"
      },
      "execution_count": null,
      "outputs": [
        {
          "output_type": "stream",
          "name": "stdout",
          "text": [
            "Predecessors: {0: None, 1: 0, 2: 1, 3: 2, 4: 5, 5: 6, 6: 7, 7: 0, 8: 2}\n"
          ]
        }
      ]
    }
  ]
}