{
  "nbformat": 4,
  "nbformat_minor": 0,
  "metadata": {
    "colab": {
      "provenance": [],
      "include_colab_link": true
    },
    "kernelspec": {
      "name": "python3",
      "display_name": "Python 3"
    },
    "language_info": {
      "name": "python"
    }
  },
  "cells": [
    {
      "cell_type": "markdown",
      "metadata": {
        "id": "view-in-github",
        "colab_type": "text"
      },
      "source": [
        "<a href=\"https://colab.research.google.com/github/Hancynixon/AA/blob/main/Kosaraju.ipynb\" target=\"_parent\"><img src=\"https://colab.research.google.com/assets/colab-badge.svg\" alt=\"Open In Colab\"/></a>"
      ]
    },
    {
      "cell_type": "code",
      "execution_count": null,
      "metadata": {
        "id": "4oK6eh7iqpcs"
      },
      "outputs": [],
      "source": [
        "from collections import defaultdict, deque\n",
        "class Graph:\n",
        "  def __init__(self, vertices):\n",
        "    self.V = vertices\n",
        "    self.graph = defaultdict(list)\n",
        "  def add_edge(self, u, v):\n",
        "    self.graph[u].append(v)\n",
        "  def _dfs(self, v, visited, stack):\n",
        "    visited[v] = True\n",
        "    for neighbor in self.graph[v]:\n",
        "      if not visited[neighbor]:\n",
        "        self._dfs(neighbor, visited, stack)\n",
        "    stack.append(v)\n",
        "  def _transpose(self):\n",
        "    transposed_graph = Graph(self.V)\n",
        "    for node in self.graph:\n",
        "      for neighbor in self.graph[node]:\n",
        "        transposed_graph.add_edge(neighbor, node)\n",
        "    return transposed_graph\n",
        "  def _fill_order(self, visited, stack):\n",
        "    for i in range(self.V):\n",
        "      if not visited[i]:\n",
        "        self._dfs(i, visited, stack)\n",
        "  def _dfs_util(self, v, visited, component):\n",
        "    visited[v] = True\n",
        "    component.append(v)\n",
        "    for neighbor in self.graph[v]:\n",
        "      if not visited[neighbor]:\n",
        "        self._dfs_util(neighbor, visited, component)\n",
        "\n",
        "  def kosaraju_scc(self):\n",
        "    stack = deque()\n",
        "    visited = [False] * self.V\n",
        "    self._fill_order(visited, stack)\n",
        "    print(stack)\n",
        "    transposed_graph = self._transpose()\n",
        "    visited = [False] * self.V\n",
        "    scc_list = []\n",
        "    while stack:\n",
        "      node = stack.pop()\n",
        "      print(\"pop node\",node)\n",
        "      if not visited[node]:\n",
        "        component = []\n",
        "        transposed_graph._dfs_util(node, visited, component)\n",
        "        scc_list.append(component)\n",
        "    return scc_list"
      ]
    },
    {
      "cell_type": "code",
      "source": [
        "g = Graph(8)\n",
        "g.add_edge(0, 1)\n",
        "g.add_edge(1, 2)\n",
        "g.add_edge(2, 0)\n",
        "g.add_edge(2, 3)\n",
        "g.add_edge(1, 3)\n",
        "g.add_edge(1, 4)\n",
        "g.add_edge(4, 5)\n",
        "g.add_edge(4, 6)\n",
        "g.add_edge(5, 7)\n",
        "g.add_edge(6, 5)\n",
        "g.add_edge(7, 6)\n",
        "sccs = g.kosaraju_scc()"
      ],
      "metadata": {
        "colab": {
          "base_uri": "https://localhost:8080/"
        },
        "id": "gXOY1AB4rg5_",
        "outputId": "31d1d3aa-6819-416e-9e3d-5230acf277f6"
      },
      "execution_count": null,
      "outputs": [
        {
          "output_type": "stream",
          "name": "stdout",
          "text": [
            "deque([3, 2, 6, 7, 5, 4, 1, 0])\n",
            "pop node 0\n",
            "pop node 1\n",
            "pop node 4\n",
            "pop node 5\n",
            "pop node 7\n",
            "pop node 6\n",
            "pop node 2\n",
            "pop node 3\n"
          ]
        }
      ]
    },
    {
      "cell_type": "code",
      "source": [
        "print(\"Strongly Connected Components:\", sccs)\n"
      ],
      "metadata": {
        "colab": {
          "base_uri": "https://localhost:8080/"
        },
        "id": "EteLBhkhr2uf",
        "outputId": "1dc0b50c-9cc9-4e7e-b791-893ae7cf1899"
      },
      "execution_count": null,
      "outputs": [
        {
          "output_type": "stream",
          "name": "stdout",
          "text": [
            "Strongly Connected Components: [[0, 2, 1], [4], [5, 6, 7], [3]]\n"
          ]
        }
      ]
    }
  ]
}