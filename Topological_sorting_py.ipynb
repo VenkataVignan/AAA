{
  "nbformat": 4,
  "nbformat_minor": 0,
  "metadata": {
    "colab": {
      "provenance": [],
      "include_colab_link": true
    },
    "kernelspec": {
      "name": "python3",
      "display_name": "Python 3"
    },
    "language_info": {
      "name": "python"
    }
  },
  "cells": [
    {
      "cell_type": "markdown",
      "metadata": {
        "id": "view-in-github",
        "colab_type": "text"
      },
      "source": [
        "<a href=\"https://colab.research.google.com/github/Hancynixon/AA/blob/main/Topological_sorting_py.ipynb\" target=\"_parent\"><img src=\"https://colab.research.google.com/assets/colab-badge.svg\" alt=\"Open In Colab\"/></a>"
      ]
    },
    {
      "cell_type": "code",
      "execution_count": null,
      "metadata": {
        "colab": {
          "base_uri": "https://localhost:8080/"
        },
        "id": "x-aZtvGJhcpV",
        "outputId": "e9cd6963-b1f0-4cd7-f35b-74e4583dd615"
      },
      "outputs": [
        {
          "output_type": "stream",
          "name": "stdout",
          "text": [
            "Topological sorting of the graph: 5 4 2 3 1 0 "
          ]
        }
      ],
      "source": [
        "def topologicalSortUtil(v, adj, visited, stack):\n",
        "    visited[v] = True\n",
        "    for i in adj[v]:\n",
        "        if not visited[i]:\n",
        "            topologicalSortUtil(i, adj, visited, stack)\n",
        "    stack.append(v)\n",
        "\n",
        "def topologicalSort(adj, V):\n",
        "    stack = []\n",
        "    visited = [False] * V\n",
        "    for i in range(V):\n",
        "        if not visited[i]:\n",
        "            topologicalSortUtil(i, adj, visited, stack)\n",
        "    print(\"Topological sorting of the graph:\", end=\" \")\n",
        "    while stack:\n",
        "        print(stack.pop(), end=\" \")\n",
        "\n",
        "# Define your graph data (V and edges)\n",
        "V = 6\n",
        "edges = [[5, 0], [4, 0], [4, 1], [3, 1], [2, 3], [5, 2]]\n",
        "\n",
        "# Create the adjacency list\n",
        "adj = [[] for _ in range(V)]\n",
        "for i in edges:\n",
        "    adj[i[0]].append(i[1])\n",
        "\n",
        "# Call the topologicalSort function\n",
        "topologicalSort(adj, V)"
      ]
    }
  ]
}